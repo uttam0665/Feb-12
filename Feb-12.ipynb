{
 "cells": [
  {
   "cell_type": "markdown",
   "id": "e0b9ffe5",
   "metadata": {},
   "source": [
    "Q1.What is an Exception in python?Write the difference between Exception and Syntax errors.\n",
    "\n",
    "ans:=\n",
    "    An exception is an event, which occurs during the execution of a program that disrupts the normal flow of the program's instructions.\n",
    "    In general, when a Python script encounters a situation that it cannot cope with, it raises an exception. \n",
    "    An exception is a Python object that represents an error.\n",
    "    \n",
    "    Both exceptions and errors are the subclasses of a throwable class. \n",
    "    The error implies a problem that mostly arises due to the shortage of system resources.\n",
    "    On the other hand, the exceptions occur during runtime and compile time."
   ]
  },
  {
   "cell_type": "markdown",
   "id": "54b34e75",
   "metadata": {},
   "source": [
    "Q2.What python statements an exception is not handled? Explain with an example.\n",
    "\n",
    "ans=\n",
    "   Exceptions which are not subclasses of Exception are not typically handled, because they are used to indicate that the program should terminate.\n",
    "    They include SystemExit which is raised by sys.exit() and KeyboardInterrupt which is raised when a user wishes to interrupt the program. "
   ]
  },
  {
   "cell_type": "code",
   "execution_count": 2,
   "id": "2cded59a",
   "metadata": {},
   "outputs": [
    {
     "ename": "ZeroDivisionError",
     "evalue": "integer division or modulo by zero",
     "output_type": "error",
     "traceback": [
      "\u001b[1;31m---------------------------------------------------------------------------\u001b[0m",
      "\u001b[1;31mZeroDivisionError\u001b[0m                         Traceback (most recent call last)",
      "Cell \u001b[1;32mIn[2], line 2\u001b[0m\n\u001b[0;32m      1\u001b[0m amount \u001b[39m=\u001b[39m \u001b[39m10000\u001b[39m\n\u001b[1;32m----> 2\u001b[0m \u001b[39mprint\u001b[39m(amount\u001b[39m%\u001b[39;49m\u001b[39m0\u001b[39;49m) \n",
      "\u001b[1;31mZeroDivisionError\u001b[0m: integer division or modulo by zero"
     ]
    }
   ],
   "source": [
    "amount = 10000\n",
    "print(amount%0) "
   ]
  },
  {
   "cell_type": "markdown",
   "id": "3ef5a609",
   "metadata": {},
   "source": [
    "Q3.Which Python statements are used to catch and handle exceptions? Explain with an example.\n",
    "\n",
    "ans=\n",
    "\n",
    "In Python, you can catch and handle exceptions using the try and except statements. "
   ]
  },
  {
   "cell_type": "code",
   "execution_count": 5,
   "id": "8f3d3538",
   "metadata": {},
   "outputs": [
    {
     "name": "stdout",
     "output_type": "stream",
     "text": [
      "this is the zero division eeror message\n"
     ]
    }
   ],
   "source": [
    "try:\n",
    "    x=int(input(\"enter the number\"))\n",
    "    result = x % 0\n",
    "    print(result)\n",
    "except ZeroDivisionError:\n",
    "    print(\"this is the zero division eeror message\")\n"
   ]
  },
  {
   "cell_type": "code",
   "execution_count": null,
   "id": "8eb718cf",
   "metadata": {},
   "outputs": [],
   "source": [
    "# Q5. example of try and else\n",
    "try:\n",
    "    \n",
    "    num1 = int(input(\"Enter the first number: \"))\n",
    "    num2 = int(input(\"Enter the second number: \"))\n",
    "    result = num1 / num2\n",
    "except ZeroDivisionError:\n",
    "    print(\"Error: Division by zero is not allowed.\")\n",
    "except ValueError:\n",
    "    print(\"Error: Invalid input. Please enter a valid number.\")\n",
    "else:\n",
    "    print(\"The result is:\", result)\n",
    "\n",
    "\n",
    "# example of finally\n",
    "\n",
    "try:\n",
    "    file = open(\"example.txt\", \"r\")\n",
    "    content = file.read()\n",
    "    print(content)\n",
    "except FileNotFoundError:\n",
    "    print(\"Error: File not found.\")\n",
    "finally:\n",
    "    \n",
    "    if file:\n",
    "        file.close()\n",
    "    print(\"Finally block executed.\")\n",
    "\n",
    "\n",
    "# example of raise\n",
    "\n",
    "def divide(num1, num2):\n",
    "    if num2 == 0:\n",
    "        raise ZeroDivisionError(\"Error: Division by zero is not allowed.\")\n",
    "    return num1 / num2\n",
    "\n",
    "try:\n",
    "    result = divide(10, 0)\n",
    "    print(\"The result is:\", result)\n",
    "except ZeroDivisionError as e:\n",
    "    print(e)\n",
    "\n",
    "\n"
   ]
  },
  {
   "cell_type": "markdown",
   "id": "ef7cb9b2",
   "metadata": {},
   "source": [
    "Q5.What are Custom Exception in python?Why do we need Exception? Example with an example.\n",
    "\n",
    "\n",
    "ans:-\n",
    "    In Python, custom exceptions are user-defined exceptions that allow you to define your own exceptional events, which can be raised and caught like any other built-in exception. \n",
    "     To create a custom exception in Python, you need to define a new class that inherits from the built-in Exception class or any of its subclasses.\n",
    "        \n",
    "    Exceptions are a mechanism in programming languages to handle errors and unexpected situations that may occur during the execution of a program. They allow the program to gracefully handle errors and recover from them, rather than crashing or producing incorrect results.      \n",
    "    "
   ]
  },
  {
   "cell_type": "code",
   "execution_count": null,
   "id": "bb804e40",
   "metadata": {},
   "outputs": [],
   "source": [
    "class InvalidInputError(Exception):\n",
    "    pass\n",
    "\n",
    "def calculate_square_root(number):\n",
    "    if number < 0:\n",
    "        raise InvalidInputError(\"Input number must be non-negative\")\n",
    "    return number ** 0.5\n",
    "\n",
    "# Usage example\n",
    "try:\n",
    "    result = calculate_square_root(-1)\n",
    "except InvalidInputError as e:\n",
    "    print(e)"
   ]
  },
  {
   "cell_type": "code",
   "execution_count": null,
   "id": "a4f530db",
   "metadata": {},
   "outputs": [],
   "source": [
    "Q6.Create a ccustom exception class .Use this class to handle an execption.\n",
    "ans:-\n",
    "    \n",
    "class CustomException(Exception):\n",
    "    def __init__(self, message):\n",
    "        self.message = message\n",
    "\n",
    "try:\n",
    "    x = int(input(\"Enter a number: \"))\n",
    "    if x < 0:\n",
    "        raise CustomException(\"Number must be positive\")\n",
    "except CustomException as e:\n",
    "    print(\"Error:\", e.message)\n"
   ]
  }
 ],
 "metadata": {
  "kernelspec": {
   "display_name": "Python 3 (ipykernel)",
   "language": "python",
   "name": "python3"
  },
  "language_info": {
   "codemirror_mode": {
    "name": "ipython",
    "version": 3
   },
   "file_extension": ".py",
   "mimetype": "text/x-python",
   "name": "python",
   "nbconvert_exporter": "python",
   "pygments_lexer": "ipython3",
   "version": "3.10.11"
  }
 },
 "nbformat": 4,
 "nbformat_minor": 5
}
